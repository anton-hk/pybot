{
 "cells": [
  {
   "cell_type": "markdown",
   "metadata": {},
   "source": [
    "Телеграм бот для конвертации фотографий и документов Word в файлы pdf\n",
    "Бот реальзован с помощью Telegram Bot API "
   ]
  },
  {
   "cell_type": "code",
   "execution_count": null,
   "metadata": {},
   "outputs": [],
   "source": [
    "Начало роботы бота:\n",
    "    ![1.jpg](images/image_2020-08-04_15-09-11.png)"
   ]
  }
 ],
 "metadata": {
  "kernelspec": {
   "display_name": "Python 3",
   "language": "python",
   "name": "python3"
  },
  "language_info": {
   "codemirror_mode": {
    "name": "ipython",
    "version": 3
   },
   "file_extension": ".py",
   "mimetype": "text/x-python",
   "name": "python",
   "nbconvert_exporter": "python",
   "pygments_lexer": "ipython3",
   "version": "3.7.6"
  }
 },
 "nbformat": 4,
 "nbformat_minor": 4
}
