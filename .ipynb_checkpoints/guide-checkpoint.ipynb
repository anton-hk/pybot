{
 "cells": [
  {
   "cell_type": "markdown",
   "metadata": {},
   "source": [
    "Телеграм бот для конвертации фотографий и документов Word в файлы pdf\n",
    "Бот реальзован с помощью Telegram Bot API "
   ]
  },
  {
   "cell_type": "markdown",
   "metadata": {},
   "source": [
    "Начало роботы бота:\n",
    "![image_2020-08-04_15-09-111.png](images/image_2020-08-04_15-09-11.png)"
   ]
  },
  {
   "cell_type": "markdown",
   "metadata": {},
   "source": [
    "Если написать ему любое сообщение, то бот ответит: \"Send me photo or file\"\n",
    "\n"
   ]
  },
  {
   "cell_type": "markdown",
   "metadata": {},
   "source": [
    "Примеры работы бота:\n",
    "![image_2020-08-04_15-26-10.png](images/image_2020-08-04_15-26-10.png)\n",
    "![image_2020-08-04_15-26-59.png](images/image_2020-08-04_15-26-59.png)\n"
   ]
  },
  {
   "cell_type": "markdown",
   "metadata": {},
   "source": [
    "Если отправить боту файл, который он не сможет конвертировать, то он просто сообщит об этом пользователю"
   ]
  }
 ],
 "metadata": {
  "kernelspec": {
   "display_name": "Python 3",
   "language": "python",
   "name": "python3"
  },
  "language_info": {
   "codemirror_mode": {
    "name": "ipython",
    "version": 3
   },
   "file_extension": ".py",
   "mimetype": "text/x-python",
   "name": "python",
   "nbconvert_exporter": "python",
   "pygments_lexer": "ipython3",
   "version": "3.7.6"
  }
 },
 "nbformat": 4,
 "nbformat_minor": 4
}
